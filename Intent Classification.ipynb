{
 "cells": [
  {
   "cell_type": "code",
   "execution_count": 1,
   "id": "aeddcfbe",
   "metadata": {},
   "outputs": [
    {
     "name": "stderr",
     "output_type": "stream",
     "text": [
      "[nltk_data] Downloading package stopwords to\n",
      "[nltk_data]     C:\\Users\\Certainty\\AppData\\Roaming\\nltk_data...\n",
      "[nltk_data]   Package stopwords is already up-to-date!\n"
     ]
    },
    {
     "data": {
      "text/plain": [
       "True"
      ]
     },
     "execution_count": 1,
     "metadata": {},
     "output_type": "execute_result"
    }
   ],
   "source": [
    "import pandas as pd\n",
    "import seaborn as sn\n",
    "import matplotlib.pyplot as plt\n",
    "import re\n",
    "import nltk\n",
    "from nltk.corpus import stopwords\n",
    "from nltk.stem.porter import PorterStemmer\n",
    "from sklearn.feature_extraction.text import CountVectorizer\n",
    "nltk.download('stopwords')"
   ]
  },
  {
   "cell_type": "code",
   "execution_count": 2,
   "id": "c612c45b",
   "metadata": {},
   "outputs": [],
   "source": [
    "df = pd.read_excel(\"train_data.xlsx\")"
   ]
  },
  {
   "cell_type": "code",
   "execution_count": 3,
   "id": "52bd0dae",
   "metadata": {},
   "outputs": [
    {
     "data": {
      "text/html": [
       "<div>\n",
       "<style scoped>\n",
       "    .dataframe tbody tr th:only-of-type {\n",
       "        vertical-align: middle;\n",
       "    }\n",
       "\n",
       "    .dataframe tbody tr th {\n",
       "        vertical-align: top;\n",
       "    }\n",
       "\n",
       "    .dataframe thead th {\n",
       "        text-align: right;\n",
       "    }\n",
       "</style>\n",
       "<table border=\"1\" class=\"dataframe\">\n",
       "  <thead>\n",
       "    <tr style=\"text-align: right;\">\n",
       "      <th></th>\n",
       "      <th>Utterance</th>\n",
       "      <th>Intent</th>\n",
       "    </tr>\n",
       "  </thead>\n",
       "  <tbody>\n",
       "    <tr>\n",
       "      <th>0</th>\n",
       "      <td>Are email and Gmail the same thing?</td>\n",
       "      <td>account_information</td>\n",
       "    </tr>\n",
       "    <tr>\n",
       "      <th>1</th>\n",
       "      <td>Are email case sensitive?</td>\n",
       "      <td>account_information</td>\n",
       "    </tr>\n",
       "    <tr>\n",
       "      <th>2</th>\n",
       "      <td>How can you email?</td>\n",
       "      <td>account_information</td>\n",
       "    </tr>\n",
       "    <tr>\n",
       "      <th>3</th>\n",
       "      <td>Can emails be blocked?</td>\n",
       "      <td>account_information</td>\n",
       "    </tr>\n",
       "    <tr>\n",
       "      <th>4</th>\n",
       "      <td>Why is email marketing important?</td>\n",
       "      <td>account_information</td>\n",
       "    </tr>\n",
       "  </tbody>\n",
       "</table>\n",
       "</div>"
      ],
      "text/plain": [
       "                             Utterance               Intent\n",
       "0  Are email and Gmail the same thing?  account_information\n",
       "1            Are email case sensitive?  account_information\n",
       "2                   How can you email?  account_information\n",
       "3               Can emails be blocked?  account_information\n",
       "4    Why is email marketing important?  account_information"
      ]
     },
     "execution_count": 3,
     "metadata": {},
     "output_type": "execute_result"
    }
   ],
   "source": [
    "df.head()"
   ]
  },
  {
   "cell_type": "code",
   "execution_count": 4,
   "id": "6afbd2f6",
   "metadata": {},
   "outputs": [
    {
     "data": {
      "text/plain": [
       "recommend_activity                    36\n",
       "reservation_regulations               27\n",
       "Tour available                        25\n",
       "restaurant_enqiry                     24\n",
       "account_information                   23\n",
       "reservation_inquiry                   22\n",
       "recommend_poi                         22\n",
       "book_tour                             20\n",
       "Tour enquiry                          15\n",
       "describe_location                     15\n",
       "generic_request                       14\n",
       "needs_assistance                      14\n",
       "restaurant_reservation_regulations     9\n",
       "reservation_update_request             9\n",
       "Tour cancel                            5\n",
       "Tour enquiry pick-up                   5\n",
       "Tour Offer                             3\n",
       "Name: Intent, dtype: int64"
      ]
     },
     "execution_count": 4,
     "metadata": {},
     "output_type": "execute_result"
    }
   ],
   "source": [
    "df['Intent'].value_counts()"
   ]
  },
  {
   "cell_type": "code",
   "execution_count": 5,
   "id": "d3a6b13c",
   "metadata": {},
   "outputs": [],
   "source": [
    "ps = PorterStemmer()\n",
    "corpus = []"
   ]
  },
  {
   "cell_type": "code",
   "execution_count": 6,
   "id": "06230242",
   "metadata": {},
   "outputs": [],
   "source": [
    "# Preprocessing text\n",
    "for i in range(0, len(df)):\n",
    "    questions = re.sub('[^a-zA-Z]', ' ', df['Utterance'][i])\n",
    "    questions = questions.lower()\n",
    "    questions = questions.split()\n",
    "    questions = [ps.stem(word) for word in questions if not word in stopwords.words('english')]\n",
    "    questions = ' '.join(questions)\n",
    "    corpus.append(questions)"
   ]
  },
  {
   "cell_type": "code",
   "execution_count": 7,
   "id": "f38cc32a",
   "metadata": {},
   "outputs": [],
   "source": [
    "cv = CountVectorizer(max_features=2500)\n",
    "X = cv.fit_transform(corpus).toarray()"
   ]
  },
  {
   "cell_type": "code",
   "execution_count": 8,
   "id": "62f4a98c",
   "metadata": {},
   "outputs": [],
   "source": [
    "df['category_id'] = df['Intent'].factorize()[0]"
   ]
  },
  {
   "cell_type": "code",
   "execution_count": 9,
   "id": "3796be25",
   "metadata": {},
   "outputs": [],
   "source": [
    "y = df['category_id']"
   ]
  },
  {
   "cell_type": "code",
   "execution_count": 10,
   "id": "d7c3d6e2",
   "metadata": {},
   "outputs": [],
   "source": [
    "from sklearn.model_selection import train_test_split\n",
    "X_train, X_test, y_train, y_test = train_test_split(X, y, test_size = 0.20, random_state = 0)"
   ]
  },
  {
   "cell_type": "code",
   "execution_count": 11,
   "id": "50cf1e99",
   "metadata": {},
   "outputs": [],
   "source": [
    "from sklearn.naive_bayes import MultinomialNB\n",
    "clf = MultinomialNB().fit(X_train, y_train)"
   ]
  },
  {
   "cell_type": "code",
   "execution_count": 12,
   "id": "7da7ff23",
   "metadata": {},
   "outputs": [],
   "source": [
    "from sklearn.metrics import confusion_matrix\n",
    "from sklearn.metrics import accuracy_score"
   ]
  },
  {
   "cell_type": "code",
   "execution_count": 13,
   "id": "817b1f9e",
   "metadata": {},
   "outputs": [],
   "source": [
    "y_pred = clf.predict(X_test)\n",
    "score = accuracy_score(y_test, y_pred)"
   ]
  },
  {
   "cell_type": "code",
   "execution_count": 14,
   "id": "46f8461b",
   "metadata": {},
   "outputs": [
    {
     "data": {
      "text/plain": [
       "0.4482758620689655"
      ]
     },
     "execution_count": 14,
     "metadata": {},
     "output_type": "execute_result"
    }
   ],
   "source": [
    "score"
   ]
  },
  {
   "cell_type": "code",
   "execution_count": 15,
   "id": "01f3e6af",
   "metadata": {},
   "outputs": [
    {
     "data": {
      "text/plain": [
       "<AxesSubplot:>"
      ]
     },
     "execution_count": 15,
     "metadata": {},
     "output_type": "execute_result"
    },
    {
     "data": {
      "image/png": "[encoded data removed]",
      "text/plain": [
       "<Figure size 720x504 with 2 Axes>"
      ]
     },
     "metadata": {
      "needs_background": "light"
     },
     "output_type": "display_data"
    }
   ],
   "source": [
    "cm = confusion_matrix(y_test, y_pred)\n",
    "df_cm = pd.DataFrame(cm)\n",
    "plt.figure(figsize = (10,7))\n",
    "sn.heatmap(df_cm, annot=True)"
   ]
  },
  {
   "cell_type": "code",
   "execution_count": 16,
   "id": "110a38fb",
   "metadata": {},
   "outputs": [],
   "source": [
    "clf_full = MultinomialNB().fit(X, y)"
   ]
  },
  {
   "cell_type": "code",
   "execution_count": 17,
   "id": "7f8e9b6f",
   "metadata": {},
   "outputs": [],
   "source": [
    "df_test = pd.read_excel(\"Questions_test.xlsx\")"
   ]
  },
  {
   "cell_type": "code",
   "execution_count": 18,
   "id": "e1753f84",
   "metadata": {},
   "outputs": [
    {
     "data": {
      "text/plain": [
       "tour_available                        28\n",
       "recommend_activity                    27\n",
       "tour_inquiry                          21\n",
       "recommend_poi                         17\n",
       "restaurant_inquiry                    14\n",
       "reservation_inquiry                   11\n",
       "book_tour                             10\n",
       "account_information                    8\n",
       "reservation_regulations                7\n",
       "needs_assistance                       7\n",
       "tour_offer                             6\n",
       "describe_location                      6\n",
       "generic_request                        5\n",
       "reservation_update_request             5\n",
       "tour_inquiry_pick_up                   5\n",
       "tour_cancel                            4\n",
       "restaurant_reservation_regulations     2\n",
       "Name: Intent, dtype: int64"
      ]
     },
     "execution_count": 18,
     "metadata": {},
     "output_type": "execute_result"
    }
   ],
   "source": [
    "df_test['Intent'].value_counts()"
   ]
  },
  {
   "cell_type": "code",
   "execution_count": 19,
   "id": "36ae9211",
   "metadata": {},
   "outputs": [],
   "source": [
    "corpus_test = []\n",
    "for i in range(0, len(df_test)):\n",
    "    questions = re.sub('[^a-zA-Z]', ' ', df_test['Utterance'][i])\n",
    "    questions = questions.lower()\n",
    "    questions = questions.split()\n",
    "    \n",
    "    questions = [ps.stem(word) for word in questions]\n",
    "    questions = ' '.join(questions)\n",
    "    corpus_test.append(questions)"
   ]
  },
  {
   "cell_type": "code",
   "execution_count": 20,
   "id": "5db6da96",
   "metadata": {},
   "outputs": [],
   "source": [
    "cv = CountVectorizer(max_features=2500)\n",
    "test_data_X = cv.fit_transform(corpus_test).toarray()"
   ]
  },
  {
   "cell_type": "code",
   "execution_count": 21,
   "id": "58826ae2",
   "metadata": {},
   "outputs": [],
   "source": [
    "df_test['category_id'] = df_test['Intent'].factorize()[0]"
   ]
  },
  {
   "cell_type": "code",
   "execution_count": 22,
   "id": "01fa0a18",
   "metadata": {},
   "outputs": [],
   "source": [
    "test_data_y = df_test['category_id']"
   ]
  },
  {
   "cell_type": "code",
   "execution_count": 23,
   "id": "dd698a08",
   "metadata": {},
   "outputs": [],
   "source": [
    "test_pred_y = clf_full.predict(test_data_X)"
   ]
  },
  {
   "cell_type": "code",
   "execution_count": 24,
   "id": "636f3d85",
   "metadata": {},
   "outputs": [],
   "source": [
    "test_score = accuracy_score(test_data_y, test_pred_y)"
   ]
  },
  {
   "cell_type": "code",
   "execution_count": 25,
   "id": "07343255",
   "metadata": {},
   "outputs": [
    {
     "data": {
      "text/plain": [
       "0.09289617486338798"
      ]
     },
     "execution_count": 25,
     "metadata": {},
     "output_type": "execute_result"
    }
   ],
   "source": [
    "test_score"
   ]
  },
  {
   "cell_type": "code",
   "execution_count": 26,
   "id": "8ee20e32",
   "metadata": {},
   "outputs": [
    {
     "data": {
      "text/plain": [
       "<AxesSubplot:>"
      ]
     },
     "execution_count": 26,
     "metadata": {},
     "output_type": "execute_result"
    },
    {
     "data": {
      "image/png": "[encoded data removed]",
      "text/plain": [
       "<Figure size 720x504 with 2 Axes>"
      ]
     },
     "metadata": {
      "needs_background": "light"
     },
     "output_type": "display_data"
    }
   ],
   "source": [
    "cm = confusion_matrix(test_data_y, test_pred_y)\n",
    "df_cm = pd.DataFrame(cm)\n",
    "plt.figure(figsize = (10,7))\n",
    "sn.heatmap(df_cm, annot=True)"
   ]
  }
 ],
 "metadata": {
  "kernelspec": {
   "display_name": "Python 3",
   "language": "python",
   "name": "python3"
  },
  "language_info": {
   "codemirror_mode": {
    "name": "ipython",
    "version": 3
   },
   "file_extension": ".py",
   "mimetype": "text/x-python",
   "name": "python",
   "nbconvert_exporter": "python",
   "pygments_lexer": "ipython3",
   "version": "3.8.8"
  }
 },
 "nbformat": 4,
 "nbformat_minor": 5
}
